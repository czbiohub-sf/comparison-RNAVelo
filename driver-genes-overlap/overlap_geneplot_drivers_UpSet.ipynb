{
 "cells": [
  {
   "cell_type": "code",
   "execution_count": 1,
   "id": "35027cd7-a1b4-42ff-9084-1c5fac825b72",
   "metadata": {},
   "outputs": [
    {
     "name": "stderr",
     "output_type": "stream",
     "text": [
      "\n",
      "Attaching package: ‘dplyr’\n",
      "\n",
      "\n",
      "The following objects are masked from ‘package:stats’:\n",
      "\n",
      "    filter, lag\n",
      "\n",
      "\n",
      "The following objects are masked from ‘package:base’:\n",
      "\n",
      "    intersect, setdiff, setequal, union\n",
      "\n",
      "\n"
     ]
    }
   ],
   "source": [
    "library(tidyr)\n",
    "library(dplyr)"
   ]
  },
  {
   "cell_type": "code",
   "execution_count": 2,
   "id": "a9a09ea6-8ed6-4401-b396-0274f3f2e6aa",
   "metadata": {},
   "outputs": [
    {
     "name": "stderr",
     "output_type": "stream",
     "text": [
      "also installing the dependency ‘gridExtra’\n",
      "\n",
      "\n",
      "Updating HTML index of packages in '.Library'\n",
      "\n",
      "Making 'packages.html' ...\n",
      " done\n",
      "\n"
     ]
    }
   ],
   "source": [
    "install.packages(\"UpSetR\")"
   ]
  },
  {
   "cell_type": "code",
   "execution_count": 3,
   "id": "06c3e222-dc63-4ef9-8038-b068e5beade7",
   "metadata": {},
   "outputs": [],
   "source": [
    "library(UpSetR)"
   ]
  },
  {
   "cell_type": "markdown",
   "id": "a192665a",
   "metadata": {},
   "source": [
    "# We plot the overlap of the top 100 driver genes for the beta lineage with UpSet, as calculated using CellRank"
   ]
  },
  {
   "cell_type": "code",
   "execution_count": 8,
   "id": "732bb4a5-23bc-49c6-a4a0-eca88271025c",
   "metadata": {},
   "outputs": [],
   "source": [
    "beta_genes = read.csv('beta_overlap_pancreasgenes_Oct30.csv', header = TRUE, sep = \",\")\n"
   ]
  },
  {
   "cell_type": "code",
   "execution_count": 9,
   "id": "481d2b4e-1bf4-4c47-8e7e-bdddb2fd09df",
   "metadata": {},
   "outputs": [
    {
     "data": {
      "text/html": [
       "<table class=\"dataframe\">\n",
       "<caption>A data.frame: 6 × 6</caption>\n",
       "<thead>\n",
       "\t<tr><th></th><th scope=col>index</th><th scope=col>DeepVelo</th><th scope=col>Velocyto</th><th scope=col>scv.Dyn</th><th scope=col>scv.Sto</th><th scope=col>UniTVelo</th></tr>\n",
       "\t<tr><th></th><th scope=col>&lt;chr&gt;</th><th scope=col>&lt;dbl&gt;</th><th scope=col>&lt;dbl&gt;</th><th scope=col>&lt;dbl&gt;</th><th scope=col>&lt;dbl&gt;</th><th scope=col>&lt;dbl&gt;</th></tr>\n",
       "</thead>\n",
       "<tbody>\n",
       "\t<tr><th scope=row>1</th><td>Rplp0  </td><td>1</td><td>1</td><td>0</td><td>1</td><td>0</td></tr>\n",
       "\t<tr><th scope=row>2</th><td>Nkx6-1 </td><td>1</td><td>1</td><td>1</td><td>1</td><td>0</td></tr>\n",
       "\t<tr><th scope=row>3</th><td>Tmsb10 </td><td>1</td><td>1</td><td>0</td><td>1</td><td>0</td></tr>\n",
       "\t<tr><th scope=row>4</th><td>Npepl1 </td><td>1</td><td>1</td><td>1</td><td>1</td><td>0</td></tr>\n",
       "\t<tr><th scope=row>5</th><td>Hnrnpa1</td><td>1</td><td>1</td><td>0</td><td>1</td><td>0</td></tr>\n",
       "\t<tr><th scope=row>6</th><td>Cd24a  </td><td>1</td><td>1</td><td>0</td><td>1</td><td>0</td></tr>\n",
       "</tbody>\n",
       "</table>\n"
      ],
      "text/latex": [
       "A data.frame: 6 × 6\n",
       "\\begin{tabular}{r|llllll}\n",
       "  & index & DeepVelo & Velocyto & scv.Dyn & scv.Sto & UniTVelo\\\\\n",
       "  & <chr> & <dbl> & <dbl> & <dbl> & <dbl> & <dbl>\\\\\n",
       "\\hline\n",
       "\t1 & Rplp0   & 1 & 1 & 0 & 1 & 0\\\\\n",
       "\t2 & Nkx6-1  & 1 & 1 & 1 & 1 & 0\\\\\n",
       "\t3 & Tmsb10  & 1 & 1 & 0 & 1 & 0\\\\\n",
       "\t4 & Npepl1  & 1 & 1 & 1 & 1 & 0\\\\\n",
       "\t5 & Hnrnpa1 & 1 & 1 & 0 & 1 & 0\\\\\n",
       "\t6 & Cd24a   & 1 & 1 & 0 & 1 & 0\\\\\n",
       "\\end{tabular}\n"
      ],
      "text/markdown": [
       "\n",
       "A data.frame: 6 × 6\n",
       "\n",
       "| <!--/--> | index &lt;chr&gt; | DeepVelo &lt;dbl&gt; | Velocyto &lt;dbl&gt; | scv.Dyn &lt;dbl&gt; | scv.Sto &lt;dbl&gt; | UniTVelo &lt;dbl&gt; |\n",
       "|---|---|---|---|---|---|---|\n",
       "| 1 | Rplp0   | 1 | 1 | 0 | 1 | 0 |\n",
       "| 2 | Nkx6-1  | 1 | 1 | 1 | 1 | 0 |\n",
       "| 3 | Tmsb10  | 1 | 1 | 0 | 1 | 0 |\n",
       "| 4 | Npepl1  | 1 | 1 | 1 | 1 | 0 |\n",
       "| 5 | Hnrnpa1 | 1 | 1 | 0 | 1 | 0 |\n",
       "| 6 | Cd24a   | 1 | 1 | 0 | 1 | 0 |\n",
       "\n"
      ],
      "text/plain": [
       "  index   DeepVelo Velocyto scv.Dyn scv.Sto UniTVelo\n",
       "1 Rplp0   1        1        0       1       0       \n",
       "2 Nkx6-1  1        1        1       1       0       \n",
       "3 Tmsb10  1        1        0       1       0       \n",
       "4 Npepl1  1        1        1       1       0       \n",
       "5 Hnrnpa1 1        1        0       1       0       \n",
       "6 Cd24a   1        1        0       1       0       "
      ]
     },
     "metadata": {},
     "output_type": "display_data"
    }
   ],
   "source": [
    "head(beta_genes)"
   ]
  },
  {
   "cell_type": "code",
   "execution_count": 10,
   "id": "cfdfad5f-c333-4223-8203-f21ed48eafb0",
   "metadata": {},
   "outputs": [
    {
     "data": {
      "image/png": "[encoded data removed]",
      "text/plain": [
       "plot without title"
      ]
     },
     "metadata": {
      "image/png": {
       "height": 420,
       "width": 420
      }
     },
     "output_type": "display_data"
    }
   ],
   "source": [
    "myset <- c('DeepVelo', 'Veloctyo', 'scv.Sto', 'scv.Dyn', 'UniTVelo')\n",
    "myset <- factor(myset, levels=myset)\n",
    "\n",
    "upset(select(beta_genes, \"index\", \"DeepVelo\", \"Velocyto\", \"scv.Sto\", \"scv.Dyn\", \"UniTVelo\"), #sets = myset, \n",
    "      mainbar.y.label = \"Percentage of Top 100 Genes\", order.by = \"freq\", \n",
    "  sets.x.label = \"\")\n",
    "    \n"
   ]
  },
  {
   "cell_type": "code",
   "execution_count": null,
   "id": "03e9909d-e63b-46fc-baeb-295137eda739",
   "metadata": {},
   "outputs": [],
   "source": []
  }
 ],
 "metadata": {
  "kernelspec": {
   "display_name": "R",
   "language": "R",
   "name": "ir"
  },
  "language_info": {
   "codemirror_mode": "r",
   "file_extension": ".r",
   "mimetype": "text/x-r-source",
   "name": "R",
   "pygments_lexer": "r",
   "version": "4.2.3"
  }
 },
 "nbformat": 4,
 "nbformat_minor": 5
}
